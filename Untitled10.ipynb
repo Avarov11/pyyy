{
 "cells": [
  {
   "cell_type": "code",
   "execution_count": 10,
   "id": "59aa6e13",
   "metadata": {},
   "outputs": [
    {
     "name": "stdout",
     "output_type": "stream",
     "text": [
      "   enter time   6\n",
      "fire in the hole\n"
     ]
    }
   ],
   "source": [
    "import time\n",
    "def countdown(t):\n",
    "    while t:\n",
    "        minutes,seconds=divmod(t,60)\n",
    "        print(minutes,seconds, end=\"\\r\")\n",
    "        time.sleep(1)\n",
    "        t=t-1\n",
    "t= int(input (\"   enter time in seconds   \"))\n",
    "(countdown(t))\n",
    "print(\"fire in the hole\")\n"
   ]
  },
  {
   "cell_type": "code",
   "execution_count": null,
   "id": "c3ec844b",
   "metadata": {},
   "outputs": [],
   "source": []
  },
  {
   "cell_type": "code",
   "execution_count": null,
   "id": "a4d549aa",
   "metadata": {},
   "outputs": [],
   "source": []
  }
 ],
 "metadata": {
  "kernelspec": {
   "display_name": "Python 3 (ipykernel)",
   "language": "python",
   "name": "python3"
  },
  "language_info": {
   "codemirror_mode": {
    "name": "ipython",
    "version": 3
   },
   "file_extension": ".py",
   "mimetype": "text/x-python",
   "name": "python",
   "nbconvert_exporter": "python",
   "pygments_lexer": "ipython3",
   "version": "3.9.12"
  }
 },
 "nbformat": 4,
 "nbformat_minor": 5
}
